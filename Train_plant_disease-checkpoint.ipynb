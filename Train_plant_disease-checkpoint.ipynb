{
 "cells": [
  {
   "cell_type": "code",
   "execution_count": 51,
   "id": "ce659794-9c9e-41f7-a5e8-7691a0b3d8bc",
   "metadata": {},
   "outputs": [
    {
     "name": "stdout",
     "output_type": "stream",
     "text": [
      "Success\n"
     ]
    }
   ],
   "source": [
    "import tensorflow as tf\n",
    "import matplotlib.pyplot as plt\n",
    "import pandas as pd\n",
    "import seaborn as sns\n",
    "print(\"Success\")"
   ]
  },
  {
   "cell_type": "markdown",
   "id": "7b56f7a8-5c99-4df9-b8b6-ac5fb2ea7086",
   "metadata": {},
   "source": [
    "## Data Preprocessing"
   ]
  },
  {
   "cell_type": "markdown",
   "id": "66fb52f7-b46a-496e-8562-6ecd473c8fbd",
   "metadata": {},
   "source": [
    "### Traning Image Preprocessing"
   ]
  },
  {
   "cell_type": "code",
   "execution_count": 52,
   "id": "f49e2d12-fb23-4250-beed-de0412837ac7",
   "metadata": {},
   "outputs": [
    {
     "name": "stdout",
     "output_type": "stream",
     "text": [
      "Found 70295 files belonging to 38 classes.\n"
     ]
    }
   ],
   "source": [
    "training_set =tf.keras.utils.image_dataset_from_directory(\n",
    "    'train',\n",
    "    labels=\"inferred\",\n",
    "    label_mode=\"categorical\",\n",
    "    class_names=None,\n",
    "    color_mode=\"rgb\",\n",
    "    batch_size=32,\n",
    "    image_size=(128, 128),\n",
    "    shuffle=True,\n",
    "    seed=None,\n",
    "    validation_split=None,\n",
    "    subset=None,\n",
    "    interpolation=\"bilinear\",\n",
    "    follow_links=False,\n",
    "    crop_to_aspect_ratio=False,\n",
    "    \n",
    "    \n",
    ")"
   ]
  },
  {
   "cell_type": "markdown",
   "id": "85f586a8-c820-46af-a633-b2f61ecde046",
   "metadata": {},
   "source": [
    "### Validation Image Preprocessing"
   ]
  },
  {
   "cell_type": "code",
   "execution_count": 53,
   "id": "b72a483d-62c2-4426-a15d-434a3082deb9",
   "metadata": {},
   "outputs": [
    {
     "name": "stdout",
     "output_type": "stream",
     "text": [
      "Found 17572 files belonging to 38 classes.\n"
     ]
    }
   ],
   "source": [
    "validation_set =tf.keras.utils.image_dataset_from_directory(\n",
    "    'valid',\n",
    "    labels=\"inferred\",\n",
    "    label_mode=\"categorical\",\n",
    "    class_names=None,\n",
    "    color_mode=\"rgb\",\n",
    "    batch_size=32,\n",
    "    image_size=(128, 128),\n",
    "    shuffle=True,\n",
    "    seed=None,\n",
    "    validation_split=None,\n",
    "    subset=None,\n",
    "    interpolation=\"bilinear\",\n",
    "    follow_links=False,\n",
    "    crop_to_aspect_ratio=False,\n",
    "    \n",
    "    \n",
    ")"
   ]
  },
  {
   "cell_type": "code",
   "execution_count": 54,
   "id": "58c0c8cb-a571-445a-811a-2deffdcabf80",
   "metadata": {},
   "outputs": [
    {
     "data": {
      "text/plain": [
       "<_PrefetchDataset element_spec=(TensorSpec(shape=(None, 128, 128, 3), dtype=tf.float32, name=None), TensorSpec(shape=(None, 38), dtype=tf.float32, name=None))>"
      ]
     },
     "execution_count": 54,
     "metadata": {},
     "output_type": "execute_result"
    }
   ],
   "source": [
    "training_set"
   ]
  },
  {
   "cell_type": "code",
   "execution_count": 55,
   "id": "fe1c72de-2233-4ea8-97e0-f19318168a59",
   "metadata": {},
   "outputs": [
    {
     "name": "stdout",
     "output_type": "stream",
     "text": [
      "tf.Tensor(\n",
      "[[[[118.25 107.25 115.25]\n",
      "   [130.   119.   127.  ]\n",
      "   [132.75 121.75 129.75]\n",
      "   ...\n",
      "   [164.75 154.75 162.75]\n",
      "   [171.5  161.5  169.5 ]\n",
      "   [173.   163.   171.  ]]\n",
      "\n",
      "  [[131.   120.   128.  ]\n",
      "   [128.75 117.75 125.75]\n",
      "   [112.5  101.5  109.5 ]\n",
      "   ...\n",
      "   [165.   155.   163.  ]\n",
      "   [163.   153.   161.  ]\n",
      "   [166.75 156.75 164.75]]\n",
      "\n",
      "  [[117.   106.   114.  ]\n",
      "   [120.25 109.25 117.25]\n",
      "   [124.5  113.5  121.5 ]\n",
      "   ...\n",
      "   [171.75 161.75 169.75]\n",
      "   [168.   158.   166.  ]\n",
      "   [170.5  160.5  168.5 ]]\n",
      "\n",
      "  ...\n",
      "\n",
      "  [[117.5  106.5  114.5 ]\n",
      "   [118.25 107.25 115.25]\n",
      "   [114.75 103.75 111.75]\n",
      "   ...\n",
      "   [147.25 139.25 150.25]\n",
      "   [146.5  138.5  149.5 ]\n",
      "   [146.75 138.75 149.75]]\n",
      "\n",
      "  [[119.75 108.75 116.75]\n",
      "   [120.75 109.75 117.75]\n",
      "   [123.75 112.75 120.75]\n",
      "   ...\n",
      "   [148.   140.   151.  ]\n",
      "   [149.75 141.75 152.75]\n",
      "   [150.25 142.25 153.25]]\n",
      "\n",
      "  [[112.25 101.25 109.25]\n",
      "   [113.75 102.75 110.75]\n",
      "   [121.25 110.25 118.25]\n",
      "   ...\n",
      "   [147.   139.   150.  ]\n",
      "   [144.75 136.75 147.75]\n",
      "   [145.25 137.25 148.25]]]\n",
      "\n",
      "\n",
      " [[[161.   151.   159.  ]\n",
      "   [165.5  155.5  163.5 ]\n",
      "   [168.5  158.5  166.5 ]\n",
      "   ...\n",
      "   [158.75 151.75 159.75]\n",
      "   [157.   150.   158.  ]\n",
      "   [159.75 152.75 160.75]]\n",
      "\n",
      "  [[166.25 156.25 164.25]\n",
      "   [169.75 159.75 167.75]\n",
      "   [164.   154.   162.  ]\n",
      "   ...\n",
      "   [157.5  150.5  158.5 ]\n",
      "   [159.75 152.75 160.75]\n",
      "   [164.25 157.25 165.25]]\n",
      "\n",
      "  [[169.   159.   167.  ]\n",
      "   [167.   157.   165.  ]\n",
      "   [157.5  147.5  155.5 ]\n",
      "   ...\n",
      "   [157.   150.   158.  ]\n",
      "   [159.75 152.75 160.75]\n",
      "   [163.5  156.5  164.5 ]]\n",
      "\n",
      "  ...\n",
      "\n",
      "  [[138.   126.   130.  ]\n",
      "   [135.   123.   127.  ]\n",
      "   [123.   111.   115.  ]\n",
      "   ...\n",
      "   [124.   113.   117.  ]\n",
      "   [118.   107.   111.  ]\n",
      "   [122.75 111.75 115.75]]\n",
      "\n",
      "  [[136.25 124.25 128.25]\n",
      "   [130.   118.   122.  ]\n",
      "   [128.25 116.25 120.25]\n",
      "   ...\n",
      "   [128.   118.   119.  ]\n",
      "   [118.25 108.25 109.25]\n",
      "   [122.5  112.5  113.5 ]]\n",
      "\n",
      "  [[139.25 127.25 131.25]\n",
      "   [124.5  112.5  116.5 ]\n",
      "   [113.75 101.75 105.75]\n",
      "   ...\n",
      "   [127.   117.   118.  ]\n",
      "   [117.   107.   108.  ]\n",
      "   [114.75 104.75 105.75]]]\n",
      "\n",
      "\n",
      " [[[100.25  89.75  93.25]\n",
      "   [194.25 183.25 187.25]\n",
      "   [186.   175.   179.  ]\n",
      "   ...\n",
      "   [140.25 128.25 128.25]\n",
      "   [141.75 129.75 129.75]\n",
      "   [155.75 143.75 143.75]]\n",
      "\n",
      "  [[102.75  93.75  95.75]\n",
      "   [172.5  161.5  165.5 ]\n",
      "   [180.25 169.25 173.25]\n",
      "   ...\n",
      "   [142.   130.   130.  ]\n",
      "   [134.5  122.5  122.5 ]\n",
      "   [141.25 129.25 129.25]]\n",
      "\n",
      "  [[105.5   95.5   98.5 ]\n",
      "   [184.   173.   177.  ]\n",
      "   [173.75 162.75 166.75]\n",
      "   ...\n",
      "   [139.5  127.5  127.5 ]\n",
      "   [151.75 139.75 139.75]\n",
      "   [142.   130.   130.  ]]\n",
      "\n",
      "  ...\n",
      "\n",
      "  [[102.25  93.    92.25]\n",
      "   [172.5  162.5  161.5 ]\n",
      "   [206.   196.   195.  ]\n",
      "   ...\n",
      "   [167.75 156.75 154.75]\n",
      "   [169.75 158.75 156.75]\n",
      "   [183.25 172.25 170.25]]\n",
      "\n",
      "  [[105.25  96.    95.25]\n",
      "   [171.5  161.5  160.5 ]\n",
      "   [185.5  175.5  174.5 ]\n",
      "   ...\n",
      "   [170.5  159.5  157.5 ]\n",
      "   [171.   160.   158.  ]\n",
      "   [181.5  170.5  168.5 ]]\n",
      "\n",
      "  [[ 99.25  90.75  90.25]\n",
      "   [176.25 166.25 165.25]\n",
      "   [175.   165.   164.  ]\n",
      "   ...\n",
      "   [165.75 154.75 152.75]\n",
      "   [173.25 162.25 160.25]\n",
      "   [171.25 160.25 158.25]]]\n",
      "\n",
      "\n",
      " ...\n",
      "\n",
      "\n",
      " [[[175.5  157.5  155.5 ]\n",
      "   [176.75 158.75 156.75]\n",
      "   [172.75 154.75 152.75]\n",
      "   ...\n",
      "   [193.25 175.25 175.25]\n",
      "   [199.75 181.75 181.75]\n",
      "   [175.   157.   157.  ]]\n",
      "\n",
      "  [[192.25 174.25 172.25]\n",
      "   [181.75 163.75 161.75]\n",
      "   [178.   160.   158.  ]\n",
      "   ...\n",
      "   [192.   174.   174.  ]\n",
      "   [196.25 178.25 178.25]\n",
      "   [195.25 177.25 177.25]]\n",
      "\n",
      "  [[180.   162.   160.  ]\n",
      "   [185.5  167.5  165.5 ]\n",
      "   [178.5  160.5  158.5 ]\n",
      "   ...\n",
      "   [196.75 178.75 178.75]\n",
      "   [202.25 184.25 184.25]\n",
      "   [184.75 166.75 166.75]]\n",
      "\n",
      "  ...\n",
      "\n",
      "  [[157.25 141.25 141.25]\n",
      "   [169.   153.   153.  ]\n",
      "   [152.75 136.75 136.75]\n",
      "   ...\n",
      "   [156.   136.   137.  ]\n",
      "   [155.25 135.25 136.25]\n",
      "   [158.25 138.25 139.25]]\n",
      "\n",
      "  [[136.   122.   121.  ]\n",
      "   [147.25 133.25 132.25]\n",
      "   [148.25 134.25 133.25]\n",
      "   ...\n",
      "   [155.75 135.75 136.75]\n",
      "   [166.75 146.75 147.75]\n",
      "   [159.75 139.75 140.75]]\n",
      "\n",
      "  [[118.5  104.5  103.5 ]\n",
      "   [136.25 122.25 121.25]\n",
      "   [126.75 112.75 111.75]\n",
      "   ...\n",
      "   [156.   136.   137.  ]\n",
      "   [155.25 135.25 136.25]\n",
      "   [149.75 129.75 130.75]]]\n",
      "\n",
      "\n",
      " [[[156.75 146.75 144.75]\n",
      "   [151.5  141.5  139.5 ]\n",
      "   [155.5  145.5  143.5 ]\n",
      "   ...\n",
      "   [182.25 172.25 170.25]\n",
      "   [183.5  173.5  171.5 ]\n",
      "   [177.25 167.25 165.25]]\n",
      "\n",
      "  [[163.   153.   151.  ]\n",
      "   [153.   143.   141.  ]\n",
      "   [158.5  148.5  146.5 ]\n",
      "   ...\n",
      "   [183.5  173.5  171.5 ]\n",
      "   [185.25 175.25 173.25]\n",
      "   [184.5  174.5  172.5 ]]\n",
      "\n",
      "  [[150.25 140.25 138.25]\n",
      "   [154.   144.   142.  ]\n",
      "   [154.   144.   142.  ]\n",
      "   ...\n",
      "   [181.25 171.25 169.25]\n",
      "   [182.25 172.25 170.25]\n",
      "   [186.   176.   174.  ]]\n",
      "\n",
      "  ...\n",
      "\n",
      "  [[114.   108.5  108.  ]\n",
      "   [ 39.    33.25  34.75]\n",
      "   [ 23.75  18.5   22.  ]\n",
      "   ...\n",
      "   [148.5  137.5  131.5 ]\n",
      "   [152.25 141.25 135.25]\n",
      "   [166.   155.   149.  ]]\n",
      "\n",
      "  [[122.5  115.5  107.5 ]\n",
      "   [ 33.5   26.75  21.75]\n",
      "   [ 31.25  24.75  24.75]\n",
      "   ...\n",
      "   [155.   144.   138.  ]\n",
      "   [135.   124.   118.  ]\n",
      "   [143.25 132.25 126.25]]\n",
      "\n",
      "  [[106.    98.25  85.  ]\n",
      "   [ 64.    55.75  47.  ]\n",
      "   [ 36.    28.25  25.  ]\n",
      "   ...\n",
      "   [152.25 141.25 135.25]\n",
      "   [154.5  143.5  137.5 ]\n",
      "   [149.5  138.5  132.5 ]]]\n",
      "\n",
      "\n",
      " [[[118.5  114.5  131.5 ]\n",
      "   [112.75 108.75 125.75]\n",
      "   [126.   122.   137.  ]\n",
      "   ...\n",
      "   [137.5  135.5  149.5 ]\n",
      "   [147.25 145.25 159.25]\n",
      "   [143.   141.   155.  ]]\n",
      "\n",
      "  [[126.   122.   139.  ]\n",
      "   [123.25 119.25 136.25]\n",
      "   [121.   117.   132.  ]\n",
      "   ...\n",
      "   [109.75 107.75 121.75]\n",
      "   [143.25 141.25 155.25]\n",
      "   [132.75 130.75 144.75]]\n",
      "\n",
      "  [[ 95.25  91.25 108.25]\n",
      "   [121.25 117.25 134.25]\n",
      "   [126.   122.   137.  ]\n",
      "   ...\n",
      "   [139.   137.   151.  ]\n",
      "   [139.   137.   151.  ]\n",
      "   [138.25 136.25 150.25]]\n",
      "\n",
      "  ...\n",
      "\n",
      "  [[163.25 161.25 175.25]\n",
      "   [156.75 154.75 168.75]\n",
      "   [165.75 163.75 177.75]\n",
      "   ...\n",
      "   [188.75 186.75 197.75]\n",
      "   [185.   183.   194.  ]\n",
      "   [184.5  182.5  193.5 ]]\n",
      "\n",
      "  [[161.25 159.25 173.25]\n",
      "   [163.25 161.25 175.25]\n",
      "   [160.75 158.75 172.75]\n",
      "   ...\n",
      "   [177.75 175.75 186.75]\n",
      "   [180.   178.   189.  ]\n",
      "   [187.25 185.25 196.25]]\n",
      "\n",
      "  [[163.5  161.5  175.5 ]\n",
      "   [166.75 164.75 178.75]\n",
      "   [162.25 160.25 174.25]\n",
      "   ...\n",
      "   [177.   175.   186.  ]\n",
      "   [187.5  185.5  196.5 ]\n",
      "   [197.75 195.75 206.75]]]], shape=(32, 128, 128, 3), dtype=float32) (32, 128, 128, 3)\n",
      "tf.Tensor(\n",
      "[[0. 0. 0. ... 0. 0. 0.]\n",
      " [0. 0. 0. ... 1. 0. 0.]\n",
      " [0. 1. 0. ... 0. 0. 0.]\n",
      " ...\n",
      " [0. 0. 0. ... 0. 0. 0.]\n",
      " [0. 0. 0. ... 0. 0. 0.]\n",
      " [0. 0. 0. ... 0. 0. 0.]], shape=(32, 38), dtype=float32) (32, 38)\n"
     ]
    }
   ],
   "source": [
    "for x,y in training_set:\n",
    "    print(x,x.shape)\n",
    "    print(y,y.shape)\n",
    "    break"
   ]
  },
  {
   "cell_type": "markdown",
   "id": "46683373-fe47-426f-b2e5-c36fcca2ba9b",
   "metadata": {},
   "source": [
    "### Building Model"
   ]
  },
  {
   "cell_type": "code",
   "execution_count": 56,
   "id": "3f854edf-c526-4da0-b4ce-a4971f0aa4ad",
   "metadata": {},
   "outputs": [],
   "source": [
    "from tensorflow.keras.layers import Dense, Conv2D, MaxPool2D, Flatten, Dropout\n",
    "from tensorflow.keras.models import Sequential"
   ]
  },
  {
   "cell_type": "code",
   "execution_count": 57,
   "id": "4f501ab9-2715-4125-8691-50dccf7d5db5",
   "metadata": {},
   "outputs": [],
   "source": [
    "model = Sequential()"
   ]
  },
  {
   "cell_type": "code",
   "execution_count": 32,
   "id": "15345abe-732f-45d7-9bb5-869e27d3b28f",
   "metadata": {},
   "outputs": [],
   "source": [
    "## Building convolution layer"
   ]
  },
  {
   "cell_type": "code",
   "execution_count": 58,
   "id": "04ba3139-f79e-487b-b5e3-5e5b26b5d2e9",
   "metadata": {},
   "outputs": [],
   "source": [
    "model.add(Conv2D(filters=32, kernel_size=3, padding='same', activation='relu', input_shape=[128,128,3]))\n",
    "model.add(Conv2D(filters=32, kernel_size=3, activation='relu'))\n",
    "model.add(MaxPool2D(pool_size=2,strides=2))"
   ]
  },
  {
   "cell_type": "code",
   "execution_count": 59,
   "id": "3c0fe4f7-b1e7-4892-927b-e30329c76ce7",
   "metadata": {},
   "outputs": [],
   "source": [
    "model.add(Conv2D(filters=64, kernel_size=3, padding='same', activation='relu'))\n",
    "model.add(Conv2D(filters=64, kernel_size=3, activation='relu'))\n",
    "model.add(MaxPool2D(pool_size=2,strides=2))"
   ]
  },
  {
   "cell_type": "code",
   "execution_count": 60,
   "id": "507202d6-5ff1-4783-b5e2-b737e1d8dd31",
   "metadata": {},
   "outputs": [],
   "source": [
    "model.add(Conv2D(filters=128, kernel_size=3, padding='same', activation='relu'))\n",
    "model.add(Conv2D(filters=128, kernel_size=3, activation='relu'))\n",
    "model.add(MaxPool2D(pool_size=2,strides=2))"
   ]
  },
  {
   "cell_type": "code",
   "execution_count": 61,
   "id": "bfffb349-df78-4b0b-91db-4926eca8cd77",
   "metadata": {},
   "outputs": [],
   "source": [
    "model.add(Conv2D(filters=256, kernel_size=3, padding='same', activation='relu'))\n",
    "model.add(Conv2D(filters=256, kernel_size=3, activation='relu'))\n",
    "model.add(MaxPool2D(pool_size=2,strides=2))"
   ]
  },
  {
   "cell_type": "code",
   "execution_count": 62,
   "id": "7857e900-475d-4daf-aacd-2bd51640207f",
   "metadata": {},
   "outputs": [],
   "source": [
    "model.add(Conv2D(filters=512, kernel_size=3, padding='same', activation='relu'))\n",
    "model.add(Conv2D(filters=512, kernel_size=3, activation='relu'))\n",
    "model.add(MaxPool2D(pool_size=2,strides=2))"
   ]
  },
  {
   "cell_type": "code",
   "execution_count": 63,
   "id": "0b7bd6da-8f2b-47a4-9fec-8fcb7e069a3d",
   "metadata": {},
   "outputs": [],
   "source": [
    "model.add(Dropout(0.25)) #to avoid overfitting"
   ]
  },
  {
   "cell_type": "code",
   "execution_count": 64,
   "id": "87c732a3-3d0e-451e-a094-c3f255185909",
   "metadata": {},
   "outputs": [],
   "source": [
    "model.add(Flatten())"
   ]
  },
  {
   "cell_type": "code",
   "execution_count": 65,
   "id": "7a6df530-5a09-4dfd-a68c-aecc9b02dae1",
   "metadata": {},
   "outputs": [],
   "source": [
    "model.add(Dense(units=1500,activation='relu'))"
   ]
  },
  {
   "cell_type": "code",
   "execution_count": 66,
   "id": "bf889691-b761-4233-9fde-8e8892eba392",
   "metadata": {},
   "outputs": [],
   "source": [
    "model.add(Dropout(0.4))"
   ]
  },
  {
   "cell_type": "code",
   "execution_count": 67,
   "id": "d6ff4312-6321-423d-b89c-140888f67c94",
   "metadata": {},
   "outputs": [],
   "source": [
    "#output layer\n",
    "model.add(Dense(units=38,activation='softmax'))"
   ]
  },
  {
   "cell_type": "markdown",
   "id": "bd6f6421-a851-43e4-918e-84f512fe09a5",
   "metadata": {},
   "source": [
    "### Compiling Model"
   ]
  },
  {
   "cell_type": "code",
   "execution_count": 68,
   "id": "b3fb1f2f-d523-4f0e-83ad-c9d520006d25",
   "metadata": {},
   "outputs": [],
   "source": [
    "model.compile(optimizer=tf.keras.optimizers.Adam(learning_rate=0.0001),loss='categorical_crossentropy',metrics=['accuracy'])"
   ]
  },
  {
   "cell_type": "code",
   "execution_count": 69,
   "id": "a2c94f96-83ac-4b80-873b-121e81bb036a",
   "metadata": {},
   "outputs": [
    {
     "data": {
      "text/html": [
       "<pre style=\"white-space:pre;overflow-x:auto;line-height:normal;font-family:Menlo,'DejaVu Sans Mono',consolas,'Courier New',monospace\"><span style=\"font-weight: bold\">Model: \"sequential_2\"</span>\n",
       "</pre>\n"
      ],
      "text/plain": [
       "\u001b[1mModel: \"sequential_2\"\u001b[0m\n"
      ]
     },
     "metadata": {},
     "output_type": "display_data"
    },
    {
     "data": {
      "text/html": [
       "<pre style=\"white-space:pre;overflow-x:auto;line-height:normal;font-family:Menlo,'DejaVu Sans Mono',consolas,'Courier New',monospace\">┏━━━━━━━━━━━━━━━━━━━━━━━━━━━━━━━━━━━━━━┳━━━━━━━━━━━━━━━━━━━━━━━━━━━━━┳━━━━━━━━━━━━━━━━━┓\n",
       "┃<span style=\"font-weight: bold\"> Layer (type)                         </span>┃<span style=\"font-weight: bold\"> Output Shape                </span>┃<span style=\"font-weight: bold\">         Param # </span>┃\n",
       "┡━━━━━━━━━━━━━━━━━━━━━━━━━━━━━━━━━━━━━━╇━━━━━━━━━━━━━━━━━━━━━━━━━━━━━╇━━━━━━━━━━━━━━━━━┩\n",
       "│ conv2d_25 (<span style=\"color: #0087ff; text-decoration-color: #0087ff\">Conv2D</span>)                   │ (<span style=\"color: #00d7ff; text-decoration-color: #00d7ff\">None</span>, <span style=\"color: #00af00; text-decoration-color: #00af00\">128</span>, <span style=\"color: #00af00; text-decoration-color: #00af00\">128</span>, <span style=\"color: #00af00; text-decoration-color: #00af00\">32</span>)        │             <span style=\"color: #00af00; text-decoration-color: #00af00\">896</span> │\n",
       "├──────────────────────────────────────┼─────────────────────────────┼─────────────────┤\n",
       "│ conv2d_26 (<span style=\"color: #0087ff; text-decoration-color: #0087ff\">Conv2D</span>)                   │ (<span style=\"color: #00d7ff; text-decoration-color: #00d7ff\">None</span>, <span style=\"color: #00af00; text-decoration-color: #00af00\">126</span>, <span style=\"color: #00af00; text-decoration-color: #00af00\">126</span>, <span style=\"color: #00af00; text-decoration-color: #00af00\">32</span>)        │           <span style=\"color: #00af00; text-decoration-color: #00af00\">9,248</span> │\n",
       "├──────────────────────────────────────┼─────────────────────────────┼─────────────────┤\n",
       "│ max_pooling2d_12 (<span style=\"color: #0087ff; text-decoration-color: #0087ff\">MaxPooling2D</span>)      │ (<span style=\"color: #00d7ff; text-decoration-color: #00d7ff\">None</span>, <span style=\"color: #00af00; text-decoration-color: #00af00\">63</span>, <span style=\"color: #00af00; text-decoration-color: #00af00\">63</span>, <span style=\"color: #00af00; text-decoration-color: #00af00\">32</span>)          │               <span style=\"color: #00af00; text-decoration-color: #00af00\">0</span> │\n",
       "├──────────────────────────────────────┼─────────────────────────────┼─────────────────┤\n",
       "│ conv2d_27 (<span style=\"color: #0087ff; text-decoration-color: #0087ff\">Conv2D</span>)                   │ (<span style=\"color: #00d7ff; text-decoration-color: #00d7ff\">None</span>, <span style=\"color: #00af00; text-decoration-color: #00af00\">63</span>, <span style=\"color: #00af00; text-decoration-color: #00af00\">63</span>, <span style=\"color: #00af00; text-decoration-color: #00af00\">64</span>)          │          <span style=\"color: #00af00; text-decoration-color: #00af00\">18,496</span> │\n",
       "├──────────────────────────────────────┼─────────────────────────────┼─────────────────┤\n",
       "│ conv2d_28 (<span style=\"color: #0087ff; text-decoration-color: #0087ff\">Conv2D</span>)                   │ (<span style=\"color: #00d7ff; text-decoration-color: #00d7ff\">None</span>, <span style=\"color: #00af00; text-decoration-color: #00af00\">61</span>, <span style=\"color: #00af00; text-decoration-color: #00af00\">61</span>, <span style=\"color: #00af00; text-decoration-color: #00af00\">64</span>)          │          <span style=\"color: #00af00; text-decoration-color: #00af00\">36,928</span> │\n",
       "├──────────────────────────────────────┼─────────────────────────────┼─────────────────┤\n",
       "│ max_pooling2d_13 (<span style=\"color: #0087ff; text-decoration-color: #0087ff\">MaxPooling2D</span>)      │ (<span style=\"color: #00d7ff; text-decoration-color: #00d7ff\">None</span>, <span style=\"color: #00af00; text-decoration-color: #00af00\">30</span>, <span style=\"color: #00af00; text-decoration-color: #00af00\">30</span>, <span style=\"color: #00af00; text-decoration-color: #00af00\">64</span>)          │               <span style=\"color: #00af00; text-decoration-color: #00af00\">0</span> │\n",
       "├──────────────────────────────────────┼─────────────────────────────┼─────────────────┤\n",
       "│ conv2d_29 (<span style=\"color: #0087ff; text-decoration-color: #0087ff\">Conv2D</span>)                   │ (<span style=\"color: #00d7ff; text-decoration-color: #00d7ff\">None</span>, <span style=\"color: #00af00; text-decoration-color: #00af00\">30</span>, <span style=\"color: #00af00; text-decoration-color: #00af00\">30</span>, <span style=\"color: #00af00; text-decoration-color: #00af00\">128</span>)         │          <span style=\"color: #00af00; text-decoration-color: #00af00\">73,856</span> │\n",
       "├──────────────────────────────────────┼─────────────────────────────┼─────────────────┤\n",
       "│ conv2d_30 (<span style=\"color: #0087ff; text-decoration-color: #0087ff\">Conv2D</span>)                   │ (<span style=\"color: #00d7ff; text-decoration-color: #00d7ff\">None</span>, <span style=\"color: #00af00; text-decoration-color: #00af00\">28</span>, <span style=\"color: #00af00; text-decoration-color: #00af00\">28</span>, <span style=\"color: #00af00; text-decoration-color: #00af00\">128</span>)         │         <span style=\"color: #00af00; text-decoration-color: #00af00\">147,584</span> │\n",
       "├──────────────────────────────────────┼─────────────────────────────┼─────────────────┤\n",
       "│ max_pooling2d_14 (<span style=\"color: #0087ff; text-decoration-color: #0087ff\">MaxPooling2D</span>)      │ (<span style=\"color: #00d7ff; text-decoration-color: #00d7ff\">None</span>, <span style=\"color: #00af00; text-decoration-color: #00af00\">14</span>, <span style=\"color: #00af00; text-decoration-color: #00af00\">14</span>, <span style=\"color: #00af00; text-decoration-color: #00af00\">128</span>)         │               <span style=\"color: #00af00; text-decoration-color: #00af00\">0</span> │\n",
       "├──────────────────────────────────────┼─────────────────────────────┼─────────────────┤\n",
       "│ conv2d_31 (<span style=\"color: #0087ff; text-decoration-color: #0087ff\">Conv2D</span>)                   │ (<span style=\"color: #00d7ff; text-decoration-color: #00d7ff\">None</span>, <span style=\"color: #00af00; text-decoration-color: #00af00\">14</span>, <span style=\"color: #00af00; text-decoration-color: #00af00\">14</span>, <span style=\"color: #00af00; text-decoration-color: #00af00\">256</span>)         │         <span style=\"color: #00af00; text-decoration-color: #00af00\">295,168</span> │\n",
       "├──────────────────────────────────────┼─────────────────────────────┼─────────────────┤\n",
       "│ conv2d_32 (<span style=\"color: #0087ff; text-decoration-color: #0087ff\">Conv2D</span>)                   │ (<span style=\"color: #00d7ff; text-decoration-color: #00d7ff\">None</span>, <span style=\"color: #00af00; text-decoration-color: #00af00\">12</span>, <span style=\"color: #00af00; text-decoration-color: #00af00\">12</span>, <span style=\"color: #00af00; text-decoration-color: #00af00\">256</span>)         │         <span style=\"color: #00af00; text-decoration-color: #00af00\">590,080</span> │\n",
       "├──────────────────────────────────────┼─────────────────────────────┼─────────────────┤\n",
       "│ max_pooling2d_15 (<span style=\"color: #0087ff; text-decoration-color: #0087ff\">MaxPooling2D</span>)      │ (<span style=\"color: #00d7ff; text-decoration-color: #00d7ff\">None</span>, <span style=\"color: #00af00; text-decoration-color: #00af00\">6</span>, <span style=\"color: #00af00; text-decoration-color: #00af00\">6</span>, <span style=\"color: #00af00; text-decoration-color: #00af00\">256</span>)           │               <span style=\"color: #00af00; text-decoration-color: #00af00\">0</span> │\n",
       "├──────────────────────────────────────┼─────────────────────────────┼─────────────────┤\n",
       "│ conv2d_33 (<span style=\"color: #0087ff; text-decoration-color: #0087ff\">Conv2D</span>)                   │ (<span style=\"color: #00d7ff; text-decoration-color: #00d7ff\">None</span>, <span style=\"color: #00af00; text-decoration-color: #00af00\">6</span>, <span style=\"color: #00af00; text-decoration-color: #00af00\">6</span>, <span style=\"color: #00af00; text-decoration-color: #00af00\">512</span>)           │       <span style=\"color: #00af00; text-decoration-color: #00af00\">1,180,160</span> │\n",
       "├──────────────────────────────────────┼─────────────────────────────┼─────────────────┤\n",
       "│ conv2d_34 (<span style=\"color: #0087ff; text-decoration-color: #0087ff\">Conv2D</span>)                   │ (<span style=\"color: #00d7ff; text-decoration-color: #00d7ff\">None</span>, <span style=\"color: #00af00; text-decoration-color: #00af00\">4</span>, <span style=\"color: #00af00; text-decoration-color: #00af00\">4</span>, <span style=\"color: #00af00; text-decoration-color: #00af00\">512</span>)           │       <span style=\"color: #00af00; text-decoration-color: #00af00\">2,359,808</span> │\n",
       "├──────────────────────────────────────┼─────────────────────────────┼─────────────────┤\n",
       "│ max_pooling2d_16 (<span style=\"color: #0087ff; text-decoration-color: #0087ff\">MaxPooling2D</span>)      │ (<span style=\"color: #00d7ff; text-decoration-color: #00d7ff\">None</span>, <span style=\"color: #00af00; text-decoration-color: #00af00\">2</span>, <span style=\"color: #00af00; text-decoration-color: #00af00\">2</span>, <span style=\"color: #00af00; text-decoration-color: #00af00\">512</span>)           │               <span style=\"color: #00af00; text-decoration-color: #00af00\">0</span> │\n",
       "├──────────────────────────────────────┼─────────────────────────────┼─────────────────┤\n",
       "│ dropout_4 (<span style=\"color: #0087ff; text-decoration-color: #0087ff\">Dropout</span>)                  │ (<span style=\"color: #00d7ff; text-decoration-color: #00d7ff\">None</span>, <span style=\"color: #00af00; text-decoration-color: #00af00\">2</span>, <span style=\"color: #00af00; text-decoration-color: #00af00\">2</span>, <span style=\"color: #00af00; text-decoration-color: #00af00\">512</span>)           │               <span style=\"color: #00af00; text-decoration-color: #00af00\">0</span> │\n",
       "├──────────────────────────────────────┼─────────────────────────────┼─────────────────┤\n",
       "│ flatten_2 (<span style=\"color: #0087ff; text-decoration-color: #0087ff\">Flatten</span>)                  │ (<span style=\"color: #00d7ff; text-decoration-color: #00d7ff\">None</span>, <span style=\"color: #00af00; text-decoration-color: #00af00\">2048</span>)                │               <span style=\"color: #00af00; text-decoration-color: #00af00\">0</span> │\n",
       "├──────────────────────────────────────┼─────────────────────────────┼─────────────────┤\n",
       "│ dense_4 (<span style=\"color: #0087ff; text-decoration-color: #0087ff\">Dense</span>)                      │ (<span style=\"color: #00d7ff; text-decoration-color: #00d7ff\">None</span>, <span style=\"color: #00af00; text-decoration-color: #00af00\">1500</span>)                │       <span style=\"color: #00af00; text-decoration-color: #00af00\">3,073,500</span> │\n",
       "├──────────────────────────────────────┼─────────────────────────────┼─────────────────┤\n",
       "│ dropout_5 (<span style=\"color: #0087ff; text-decoration-color: #0087ff\">Dropout</span>)                  │ (<span style=\"color: #00d7ff; text-decoration-color: #00d7ff\">None</span>, <span style=\"color: #00af00; text-decoration-color: #00af00\">1500</span>)                │               <span style=\"color: #00af00; text-decoration-color: #00af00\">0</span> │\n",
       "├──────────────────────────────────────┼─────────────────────────────┼─────────────────┤\n",
       "│ dense_5 (<span style=\"color: #0087ff; text-decoration-color: #0087ff\">Dense</span>)                      │ (<span style=\"color: #00d7ff; text-decoration-color: #00d7ff\">None</span>, <span style=\"color: #00af00; text-decoration-color: #00af00\">38</span>)                  │          <span style=\"color: #00af00; text-decoration-color: #00af00\">57,038</span> │\n",
       "└──────────────────────────────────────┴─────────────────────────────┴─────────────────┘\n",
       "</pre>\n"
      ],
      "text/plain": [
       "┏━━━━━━━━━━━━━━━━━━━━━━━━━━━━━━━━━━━━━━┳━━━━━━━━━━━━━━━━━━━━━━━━━━━━━┳━━━━━━━━━━━━━━━━━┓\n",
       "┃\u001b[1m \u001b[0m\u001b[1mLayer (type)                        \u001b[0m\u001b[1m \u001b[0m┃\u001b[1m \u001b[0m\u001b[1mOutput Shape               \u001b[0m\u001b[1m \u001b[0m┃\u001b[1m \u001b[0m\u001b[1m        Param #\u001b[0m\u001b[1m \u001b[0m┃\n",
       "┡━━━━━━━━━━━━━━━━━━━━━━━━━━━━━━━━━━━━━━╇━━━━━━━━━━━━━━━━━━━━━━━━━━━━━╇━━━━━━━━━━━━━━━━━┩\n",
       "│ conv2d_25 (\u001b[38;5;33mConv2D\u001b[0m)                   │ (\u001b[38;5;45mNone\u001b[0m, \u001b[38;5;34m128\u001b[0m, \u001b[38;5;34m128\u001b[0m, \u001b[38;5;34m32\u001b[0m)        │             \u001b[38;5;34m896\u001b[0m │\n",
       "├──────────────────────────────────────┼─────────────────────────────┼─────────────────┤\n",
       "│ conv2d_26 (\u001b[38;5;33mConv2D\u001b[0m)                   │ (\u001b[38;5;45mNone\u001b[0m, \u001b[38;5;34m126\u001b[0m, \u001b[38;5;34m126\u001b[0m, \u001b[38;5;34m32\u001b[0m)        │           \u001b[38;5;34m9,248\u001b[0m │\n",
       "├──────────────────────────────────────┼─────────────────────────────┼─────────────────┤\n",
       "│ max_pooling2d_12 (\u001b[38;5;33mMaxPooling2D\u001b[0m)      │ (\u001b[38;5;45mNone\u001b[0m, \u001b[38;5;34m63\u001b[0m, \u001b[38;5;34m63\u001b[0m, \u001b[38;5;34m32\u001b[0m)          │               \u001b[38;5;34m0\u001b[0m │\n",
       "├──────────────────────────────────────┼─────────────────────────────┼─────────────────┤\n",
       "│ conv2d_27 (\u001b[38;5;33mConv2D\u001b[0m)                   │ (\u001b[38;5;45mNone\u001b[0m, \u001b[38;5;34m63\u001b[0m, \u001b[38;5;34m63\u001b[0m, \u001b[38;5;34m64\u001b[0m)          │          \u001b[38;5;34m18,496\u001b[0m │\n",
       "├──────────────────────────────────────┼─────────────────────────────┼─────────────────┤\n",
       "│ conv2d_28 (\u001b[38;5;33mConv2D\u001b[0m)                   │ (\u001b[38;5;45mNone\u001b[0m, \u001b[38;5;34m61\u001b[0m, \u001b[38;5;34m61\u001b[0m, \u001b[38;5;34m64\u001b[0m)          │          \u001b[38;5;34m36,928\u001b[0m │\n",
       "├──────────────────────────────────────┼─────────────────────────────┼─────────────────┤\n",
       "│ max_pooling2d_13 (\u001b[38;5;33mMaxPooling2D\u001b[0m)      │ (\u001b[38;5;45mNone\u001b[0m, \u001b[38;5;34m30\u001b[0m, \u001b[38;5;34m30\u001b[0m, \u001b[38;5;34m64\u001b[0m)          │               \u001b[38;5;34m0\u001b[0m │\n",
       "├──────────────────────────────────────┼─────────────────────────────┼─────────────────┤\n",
       "│ conv2d_29 (\u001b[38;5;33mConv2D\u001b[0m)                   │ (\u001b[38;5;45mNone\u001b[0m, \u001b[38;5;34m30\u001b[0m, \u001b[38;5;34m30\u001b[0m, \u001b[38;5;34m128\u001b[0m)         │          \u001b[38;5;34m73,856\u001b[0m │\n",
       "├──────────────────────────────────────┼─────────────────────────────┼─────────────────┤\n",
       "│ conv2d_30 (\u001b[38;5;33mConv2D\u001b[0m)                   │ (\u001b[38;5;45mNone\u001b[0m, \u001b[38;5;34m28\u001b[0m, \u001b[38;5;34m28\u001b[0m, \u001b[38;5;34m128\u001b[0m)         │         \u001b[38;5;34m147,584\u001b[0m │\n",
       "├──────────────────────────────────────┼─────────────────────────────┼─────────────────┤\n",
       "│ max_pooling2d_14 (\u001b[38;5;33mMaxPooling2D\u001b[0m)      │ (\u001b[38;5;45mNone\u001b[0m, \u001b[38;5;34m14\u001b[0m, \u001b[38;5;34m14\u001b[0m, \u001b[38;5;34m128\u001b[0m)         │               \u001b[38;5;34m0\u001b[0m │\n",
       "├──────────────────────────────────────┼─────────────────────────────┼─────────────────┤\n",
       "│ conv2d_31 (\u001b[38;5;33mConv2D\u001b[0m)                   │ (\u001b[38;5;45mNone\u001b[0m, \u001b[38;5;34m14\u001b[0m, \u001b[38;5;34m14\u001b[0m, \u001b[38;5;34m256\u001b[0m)         │         \u001b[38;5;34m295,168\u001b[0m │\n",
       "├──────────────────────────────────────┼─────────────────────────────┼─────────────────┤\n",
       "│ conv2d_32 (\u001b[38;5;33mConv2D\u001b[0m)                   │ (\u001b[38;5;45mNone\u001b[0m, \u001b[38;5;34m12\u001b[0m, \u001b[38;5;34m12\u001b[0m, \u001b[38;5;34m256\u001b[0m)         │         \u001b[38;5;34m590,080\u001b[0m │\n",
       "├──────────────────────────────────────┼─────────────────────────────┼─────────────────┤\n",
       "│ max_pooling2d_15 (\u001b[38;5;33mMaxPooling2D\u001b[0m)      │ (\u001b[38;5;45mNone\u001b[0m, \u001b[38;5;34m6\u001b[0m, \u001b[38;5;34m6\u001b[0m, \u001b[38;5;34m256\u001b[0m)           │               \u001b[38;5;34m0\u001b[0m │\n",
       "├──────────────────────────────────────┼─────────────────────────────┼─────────────────┤\n",
       "│ conv2d_33 (\u001b[38;5;33mConv2D\u001b[0m)                   │ (\u001b[38;5;45mNone\u001b[0m, \u001b[38;5;34m6\u001b[0m, \u001b[38;5;34m6\u001b[0m, \u001b[38;5;34m512\u001b[0m)           │       \u001b[38;5;34m1,180,160\u001b[0m │\n",
       "├──────────────────────────────────────┼─────────────────────────────┼─────────────────┤\n",
       "│ conv2d_34 (\u001b[38;5;33mConv2D\u001b[0m)                   │ (\u001b[38;5;45mNone\u001b[0m, \u001b[38;5;34m4\u001b[0m, \u001b[38;5;34m4\u001b[0m, \u001b[38;5;34m512\u001b[0m)           │       \u001b[38;5;34m2,359,808\u001b[0m │\n",
       "├──────────────────────────────────────┼─────────────────────────────┼─────────────────┤\n",
       "│ max_pooling2d_16 (\u001b[38;5;33mMaxPooling2D\u001b[0m)      │ (\u001b[38;5;45mNone\u001b[0m, \u001b[38;5;34m2\u001b[0m, \u001b[38;5;34m2\u001b[0m, \u001b[38;5;34m512\u001b[0m)           │               \u001b[38;5;34m0\u001b[0m │\n",
       "├──────────────────────────────────────┼─────────────────────────────┼─────────────────┤\n",
       "│ dropout_4 (\u001b[38;5;33mDropout\u001b[0m)                  │ (\u001b[38;5;45mNone\u001b[0m, \u001b[38;5;34m2\u001b[0m, \u001b[38;5;34m2\u001b[0m, \u001b[38;5;34m512\u001b[0m)           │               \u001b[38;5;34m0\u001b[0m │\n",
       "├──────────────────────────────────────┼─────────────────────────────┼─────────────────┤\n",
       "│ flatten_2 (\u001b[38;5;33mFlatten\u001b[0m)                  │ (\u001b[38;5;45mNone\u001b[0m, \u001b[38;5;34m2048\u001b[0m)                │               \u001b[38;5;34m0\u001b[0m │\n",
       "├──────────────────────────────────────┼─────────────────────────────┼─────────────────┤\n",
       "│ dense_4 (\u001b[38;5;33mDense\u001b[0m)                      │ (\u001b[38;5;45mNone\u001b[0m, \u001b[38;5;34m1500\u001b[0m)                │       \u001b[38;5;34m3,073,500\u001b[0m │\n",
       "├──────────────────────────────────────┼─────────────────────────────┼─────────────────┤\n",
       "│ dropout_5 (\u001b[38;5;33mDropout\u001b[0m)                  │ (\u001b[38;5;45mNone\u001b[0m, \u001b[38;5;34m1500\u001b[0m)                │               \u001b[38;5;34m0\u001b[0m │\n",
       "├──────────────────────────────────────┼─────────────────────────────┼─────────────────┤\n",
       "│ dense_5 (\u001b[38;5;33mDense\u001b[0m)                      │ (\u001b[38;5;45mNone\u001b[0m, \u001b[38;5;34m38\u001b[0m)                  │          \u001b[38;5;34m57,038\u001b[0m │\n",
       "└──────────────────────────────────────┴─────────────────────────────┴─────────────────┘\n"
      ]
     },
     "metadata": {},
     "output_type": "display_data"
    },
    {
     "data": {
      "text/html": [
       "<pre style=\"white-space:pre;overflow-x:auto;line-height:normal;font-family:Menlo,'DejaVu Sans Mono',consolas,'Courier New',monospace\"><span style=\"font-weight: bold\"> Total params: </span><span style=\"color: #00af00; text-decoration-color: #00af00\">7,842,762</span> (29.92 MB)\n",
       "</pre>\n"
      ],
      "text/plain": [
       "\u001b[1m Total params: \u001b[0m\u001b[38;5;34m7,842,762\u001b[0m (29.92 MB)\n"
      ]
     },
     "metadata": {},
     "output_type": "display_data"
    },
    {
     "data": {
      "text/html": [
       "<pre style=\"white-space:pre;overflow-x:auto;line-height:normal;font-family:Menlo,'DejaVu Sans Mono',consolas,'Courier New',monospace\"><span style=\"font-weight: bold\"> Trainable params: </span><span style=\"color: #00af00; text-decoration-color: #00af00\">7,842,762</span> (29.92 MB)\n",
       "</pre>\n"
      ],
      "text/plain": [
       "\u001b[1m Trainable params: \u001b[0m\u001b[38;5;34m7,842,762\u001b[0m (29.92 MB)\n"
      ]
     },
     "metadata": {},
     "output_type": "display_data"
    },
    {
     "data": {
      "text/html": [
       "<pre style=\"white-space:pre;overflow-x:auto;line-height:normal;font-family:Menlo,'DejaVu Sans Mono',consolas,'Courier New',monospace\"><span style=\"font-weight: bold\"> Non-trainable params: </span><span style=\"color: #00af00; text-decoration-color: #00af00\">0</span> (0.00 B)\n",
       "</pre>\n"
      ],
      "text/plain": [
       "\u001b[1m Non-trainable params: \u001b[0m\u001b[38;5;34m0\u001b[0m (0.00 B)\n"
      ]
     },
     "metadata": {},
     "output_type": "display_data"
    }
   ],
   "source": [
    "model.summary()"
   ]
  },
  {
   "cell_type": "markdown",
   "id": "16c78f7e-aa82-4223-a4ed-01e6eec3e36c",
   "metadata": {},
   "source": [
    "## Model training"
   ]
  },
  {
   "cell_type": "code",
   "execution_count": 70,
   "id": "a85ac49f-0dad-4c3f-8953-c8416d06b9e1",
   "metadata": {},
   "outputs": [
    {
     "name": "stdout",
     "output_type": "stream",
     "text": [
      "Epoch 1/10\n",
      "\u001b[1m2197/2197\u001b[0m \u001b[32m━━━━━━━━━━━━━━━━━━━━\u001b[0m\u001b[37m\u001b[0m \u001b[1m922s\u001b[0m 419ms/step - accuracy: 0.4161 - loss: 2.0723 - val_accuracy: 0.8382 - val_loss: 0.5194\n",
      "Epoch 2/10\n",
      "\u001b[1m2197/2197\u001b[0m \u001b[32m━━━━━━━━━━━━━━━━━━━━\u001b[0m\u001b[37m\u001b[0m \u001b[1m891s\u001b[0m 405ms/step - accuracy: 0.8418 - loss: 0.5048 - val_accuracy: 0.9070 - val_loss: 0.2881\n",
      "Epoch 3/10\n",
      "\u001b[1m2197/2197\u001b[0m \u001b[32m━━━━━━━━━━━━━━━━━━━━\u001b[0m\u001b[37m\u001b[0m \u001b[1m896s\u001b[0m 408ms/step - accuracy: 0.9066 - loss: 0.2922 - val_accuracy: 0.9175 - val_loss: 0.2560\n",
      "Epoch 4/10\n",
      "\u001b[1m2197/2197\u001b[0m \u001b[32m━━━━━━━━━━━━━━━━━━━━\u001b[0m\u001b[37m\u001b[0m \u001b[1m885s\u001b[0m 403ms/step - accuracy: 0.9368 - loss: 0.1915 - val_accuracy: 0.9435 - val_loss: 0.1748\n",
      "Epoch 5/10\n",
      "\u001b[1m2197/2197\u001b[0m \u001b[32m━━━━━━━━━━━━━━━━━━━━\u001b[0m\u001b[37m\u001b[0m \u001b[1m882s\u001b[0m 401ms/step - accuracy: 0.9525 - loss: 0.1427 - val_accuracy: 0.9398 - val_loss: 0.1915\n",
      "Epoch 6/10\n",
      "\u001b[1m2197/2197\u001b[0m \u001b[32m━━━━━━━━━━━━━━━━━━━━\u001b[0m\u001b[37m\u001b[0m \u001b[1m890s\u001b[0m 405ms/step - accuracy: 0.9645 - loss: 0.1088 - val_accuracy: 0.9552 - val_loss: 0.1408\n",
      "Epoch 7/10\n",
      "\u001b[1m2197/2197\u001b[0m \u001b[32m━━━━━━━━━━━━━━━━━━━━\u001b[0m\u001b[37m\u001b[0m \u001b[1m883s\u001b[0m 402ms/step - accuracy: 0.9706 - loss: 0.0893 - val_accuracy: 0.9571 - val_loss: 0.1341\n",
      "Epoch 8/10\n",
      "\u001b[1m2197/2197\u001b[0m \u001b[32m━━━━━━━━━━━━━━━━━━━━\u001b[0m\u001b[37m\u001b[0m \u001b[1m900s\u001b[0m 409ms/step - accuracy: 0.9748 - loss: 0.0775 - val_accuracy: 0.9612 - val_loss: 0.1237\n",
      "Epoch 9/10\n",
      "\u001b[1m2197/2197\u001b[0m \u001b[32m━━━━━━━━━━━━━━━━━━━━\u001b[0m\u001b[37m\u001b[0m \u001b[1m891s\u001b[0m 405ms/step - accuracy: 0.9801 - loss: 0.0615 - val_accuracy: 0.9678 - val_loss: 0.1080\n",
      "Epoch 10/10\n",
      "\u001b[1m2197/2197\u001b[0m \u001b[32m━━━━━━━━━━━━━━━━━━━━\u001b[0m\u001b[37m\u001b[0m \u001b[1m893s\u001b[0m 406ms/step - accuracy: 0.9818 - loss: 0.0561 - val_accuracy: 0.9614 - val_loss: 0.1413\n",
      "Success\n"
     ]
    }
   ],
   "source": [
    "training_history= model.fit(x=training_set,validation_data=validation_set, epochs=10)\n",
    "print(\"Success\")"
   ]
  },
  {
   "cell_type": "code",
   "execution_count": null,
   "id": "c58ec4c7-e0c0-4142-b202-02e991ad0083",
   "metadata": {},
   "outputs": [],
   "source": []
  },
  {
   "cell_type": "markdown",
   "id": "5730a44b-1044-4cb8-8c41-414dcb36b2ff",
   "metadata": {},
   "source": [
    "## Model Evaluation"
   ]
  },
  {
   "cell_type": "code",
   "execution_count": 23,
   "id": "91c4c4a8-06de-4e89-88e8-42485cd1cd4d",
   "metadata": {},
   "outputs": [
    {
     "name": "stdout",
     "output_type": "stream",
     "text": [
      "\u001b[1m2197/2197\u001b[0m \u001b[32m━━━━━━━━━━━━━━━━━━━━\u001b[0m\u001b[37m\u001b[0m \u001b[1m347s\u001b[0m 157ms/step - accuracy: 0.0246 - loss: 4.5855\n"
     ]
    }
   ],
   "source": [
    "#Model Evaluation on training set\n",
    "train_loss,train_acc=model.evaluate(training_set)"
   ]
  },
  {
   "cell_type": "code",
   "execution_count": 28,
   "id": "8529cceb-fd49-46f8-9eea-bad4153c78a4",
   "metadata": {},
   "outputs": [
    {
     "name": "stdout",
     "output_type": "stream",
     "text": [
      "0.04252967983484268 0.9861014485359192\n"
     ]
    }
   ],
   "source": [
    "print(train_loss,train_acc)"
   ]
  },
  {
   "cell_type": "code",
   "execution_count": 29,
   "id": "49eba3ef-d776-43b3-b37c-e9018b74f81a",
   "metadata": {},
   "outputs": [
    {
     "name": "stdout",
     "output_type": "stream",
     "text": [
      "\u001b[1m550/550\u001b[0m \u001b[32m━━━━━━━━━━━━━━━━━━━━\u001b[0m\u001b[37m\u001b[0m \u001b[1m56s\u001b[0m 103ms/step - accuracy: 0.9587 - loss: 0.1427\n"
     ]
    }
   ],
   "source": [
    "#Model Evaluation on validation set\n",
    "val_loss,val_acc=model.evaluate(validation_set)"
   ]
  },
  {
   "cell_type": "code",
   "execution_count": 31,
   "id": "3843a344-62d4-40e1-9b51-894c849ebe28",
   "metadata": {},
   "outputs": [
    {
     "name": "stdout",
     "output_type": "stream",
     "text": [
      "0.14330285787582397 0.9586842656135559\n"
     ]
    }
   ],
   "source": [
    "print(val_loss,val_acc)"
   ]
  },
  {
   "cell_type": "markdown",
   "id": "f05d014b-a2ea-42a7-b05b-08b385b9be25",
   "metadata": {},
   "source": [
    "## Saving Model"
   ]
  },
  {
   "cell_type": "code",
   "execution_count": 71,
   "id": "51b07d85-bbd4-4e12-bdb2-f64fe429498f",
   "metadata": {},
   "outputs": [],
   "source": [
    "model.save(\"trained_model.keras\")"
   ]
  },
  {
   "cell_type": "code",
   "execution_count": 72,
   "id": "6bf224d2-4233-4bd3-933a-79c9a59ed6bc",
   "metadata": {
    "scrolled": true
   },
   "outputs": [
    {
     "data": {
      "text/plain": [
       "{'accuracy': [0.6084785461425781,\n",
       "  0.8630770444869995,\n",
       "  0.9146027565002441,\n",
       "  0.9419873356819153,\n",
       "  0.9547194242477417,\n",
       "  0.9660857915878296,\n",
       "  0.9716480374336243,\n",
       "  0.9759300351142883,\n",
       "  0.9801550507545471,\n",
       "  0.9821893572807312],\n",
       " 'loss': [1.3275184631347656,\n",
       "  0.4335828423500061,\n",
       "  0.2635183334350586,\n",
       "  0.17833615839481354,\n",
       "  0.13653340935707092,\n",
       "  0.10326292365789413,\n",
       "  0.08615069091320038,\n",
       "  0.0731847807765007,\n",
       "  0.06152810528874397,\n",
       "  0.05596994608640671],\n",
       " 'val_accuracy': [0.8382084965705872,\n",
       "  0.9069542288780212,\n",
       "  0.9175392389297485,\n",
       "  0.943489670753479,\n",
       "  0.939847469329834,\n",
       "  0.9551559090614319,\n",
       "  0.9570908546447754,\n",
       "  0.9611882567405701,\n",
       "  0.9678465723991394,\n",
       "  0.9614158868789673],\n",
       " 'val_loss': [0.5193921327590942,\n",
       "  0.28812360763549805,\n",
       "  0.25604015588760376,\n",
       "  0.17483435571193695,\n",
       "  0.1915435940027237,\n",
       "  0.14076898992061615,\n",
       "  0.13410313427448273,\n",
       "  0.1236853078007698,\n",
       "  0.10798825323581696,\n",
       "  0.1412663608789444]}"
      ]
     },
     "execution_count": 72,
     "metadata": {},
     "output_type": "execute_result"
    }
   ],
   "source": [
    "training_history.history"
   ]
  },
  {
   "cell_type": "code",
   "execution_count": 73,
   "id": "84633868-ffa2-4b47-8e41-bf7c0adce7a7",
   "metadata": {},
   "outputs": [],
   "source": [
    "#Recording History in json\n",
    "import json\n",
    "with open(\"training_hist.json\",\"w\") as f:\n",
    "    json.dump(training_history.history, f)"
   ]
  },
  {
   "cell_type": "code",
   "execution_count": null,
   "id": "a1db50e5-e3b3-43d0-a0ea-71f596c8b330",
   "metadata": {},
   "outputs": [],
   "source": []
  },
  {
   "cell_type": "markdown",
   "id": "e43055b7-44f3-4cac-b1ce-7fae42c7fbf9",
   "metadata": {},
   "source": [
    "### Accuracy Visualization"
   ]
  },
  {
   "cell_type": "code",
   "execution_count": 74,
   "id": "47fffb49-71ec-4117-9693-e0fc8a773029",
   "metadata": {},
   "outputs": [
    {
     "data": {
      "image/png": "[encoded data removed]",
      "text/plain": [
       "<Figure size 640x480 with 1 Axes>"
      ]
     },
     "metadata": {},
     "output_type": "display_data"
    }
   ],
   "source": [
    "epochs = [i for i in range(1,11)]\n",
    "plt.plot(epochs,training_history.history['accuracy'],color='red',label='Training Accuracy')\n",
    "plt.plot(epochs,training_history.history['val_accuracy'],color='blue',label='Validation Accuracy')\n",
    "plt.xlabel(\"Number of Epochs\")\n",
    "plt.ylabel(\"Accuracy\")\n",
    "plt.title(\"Visualization of Accuracy Result\")\n",
    "plt.legend()\n",
    "plt.show()"
   ]
  },
  {
   "cell_type": "markdown",
   "id": "b981fd08-2bb6-4da1-bd26-f7e67aba13d2",
   "metadata": {},
   "source": [
    "## Further Evaluation"
   ]
  },
  {
   "cell_type": "code",
   "execution_count": 30,
   "id": "8d72aa97-b3d2-4fbb-931f-68d53c4fee36",
   "metadata": {},
   "outputs": [
    {
     "data": {
      "text/plain": [
       "['Apple___Apple_scab',\n",
       " 'Apple___Black_rot',\n",
       " 'Apple___Cedar_apple_rust',\n",
       " 'Apple___healthy',\n",
       " 'Blueberry___healthy',\n",
       " 'Cherry_(including_sour)___Powdery_mildew',\n",
       " 'Cherry_(including_sour)___healthy',\n",
       " 'Corn_(maize)___Cercospora_leaf_spot Gray_leaf_spot',\n",
       " 'Corn_(maize)___Common_rust_',\n",
       " 'Corn_(maize)___Northern_Leaf_Blight',\n",
       " 'Corn_(maize)___healthy',\n",
       " 'Grape___Black_rot',\n",
       " 'Grape___Esca_(Black_Measles)',\n",
       " 'Grape___Leaf_blight_(Isariopsis_Leaf_Spot)',\n",
       " 'Grape___healthy',\n",
       " 'Orange___Haunglongbing_(Citrus_greening)',\n",
       " 'Peach___Bacterial_spot',\n",
       " 'Peach___healthy',\n",
       " 'Pepper,_bell___Bacterial_spot',\n",
       " 'Pepper,_bell___healthy',\n",
       " 'Potato___Early_blight',\n",
       " 'Potato___Late_blight',\n",
       " 'Potato___healthy',\n",
       " 'Raspberry___healthy',\n",
       " 'Soybean___healthy',\n",
       " 'Squash___Powdery_mildew',\n",
       " 'Strawberry___Leaf_scorch',\n",
       " 'Strawberry___healthy',\n",
       " 'Tomato___Bacterial_spot',\n",
       " 'Tomato___Early_blight',\n",
       " 'Tomato___Late_blight',\n",
       " 'Tomato___Leaf_Mold',\n",
       " 'Tomato___Septoria_leaf_spot',\n",
       " 'Tomato___Spider_mites Two-spotted_spider_mite',\n",
       " 'Tomato___Target_Spot',\n",
       " 'Tomato___Tomato_Yellow_Leaf_Curl_Virus',\n",
       " 'Tomato___Tomato_mosaic_virus',\n",
       " 'Tomato___healthy']"
      ]
     },
     "execution_count": 30,
     "metadata": {},
     "output_type": "execute_result"
    }
   ],
   "source": [
    "class_name=validation_set.class_names\n",
    "class_name"
   ]
  },
  {
   "cell_type": "code",
   "execution_count": 34,
   "id": "d0b259c6-53dd-4411-b658-b214485053c8",
   "metadata": {},
   "outputs": [
    {
     "name": "stdout",
     "output_type": "stream",
     "text": [
      "Found 17572 files belonging to 38 classes.\n"
     ]
    }
   ],
   "source": [
    "test_set = tf.keras.utils.image_dataset_from_directory(\n",
    "    'valid',\n",
    "    labels=\"inferred\",\n",
    "    label_mode=\"categorical\",\n",
    "    class_names=None,\n",
    "    color_mode=\"rgb\",\n",
    "    batch_size=32,\n",
    "    image_size=(128, 128),\n",
    "    shuffle=False,\n",
    "    seed=None,\n",
    "    validation_split=None,\n",
    "    subset=None,\n",
    "    interpolation=\"bilinear\",\n",
    "    follow_links=False,\n",
    "    crop_to_aspect_ratio=False,\n",
    "    \n",
    "    \n",
    ")"
   ]
  },
  {
   "cell_type": "code",
   "execution_count": 52,
   "id": "5707ab92-77de-435a-8c7b-ddb69964e0ab",
   "metadata": {},
   "outputs": [
    {
     "name": "stdout",
     "output_type": "stream",
     "text": [
      "\u001b[1m550/550\u001b[0m \u001b[32m━━━━━━━━━━━━━━━━━━━━\u001b[0m\u001b[37m\u001b[0m \u001b[1m56s\u001b[0m 101ms/step\n"
     ]
    },
    {
     "data": {
      "text/plain": [
       "array([[9.9999809e-01, 1.4198069e-08, 1.2544470e-10, ..., 1.0370130e-15,\n",
       "        3.2915138e-14, 2.5012431e-12],\n",
       "       [9.9994862e-01, 1.1866090e-06, 3.0584368e-09, ..., 6.2758403e-13,\n",
       "        8.2592917e-13, 6.2448845e-11],\n",
       "       [1.0000000e+00, 5.2291409e-12, 2.9316474e-13, ..., 6.6417014e-22,\n",
       "        2.7205068e-19, 2.1235731e-14],\n",
       "       ...,\n",
       "       [1.8497356e-13, 1.2952710e-16, 1.0509832e-12, ..., 7.0670013e-16,\n",
       "        4.8859338e-16, 1.0000000e+00],\n",
       "       [2.8038957e-15, 1.9439332e-18, 6.7102297e-15, ..., 1.5817763e-17,\n",
       "        1.3746278e-17, 1.0000000e+00],\n",
       "       [4.8069517e-18, 1.3131689e-20, 7.6937442e-18, ..., 7.2024102e-21,\n",
       "        1.4530977e-18, 1.0000000e+00]], dtype=float32)"
      ]
     },
     "execution_count": 52,
     "metadata": {},
     "output_type": "execute_result"
    }
   ],
   "source": [
    "y_pred= model.predict(test_set)\n",
    "y_pred"
   ]
  },
  {
   "cell_type": "code",
   "execution_count": 53,
   "id": "a24addfd-b8bd-4b3d-a66e-19c19b07e962",
   "metadata": {},
   "outputs": [
    {
     "data": {
      "text/plain": [
       "(17572, 38)"
      ]
     },
     "execution_count": 53,
     "metadata": {},
     "output_type": "execute_result"
    }
   ],
   "source": [
    "y_pred.shape"
   ]
  },
  {
   "cell_type": "code",
   "execution_count": 54,
   "id": "605d42de-d2ab-481f-b76b-b9e84876cab2",
   "metadata": {},
   "outputs": [
    {
     "data": {
      "text/plain": [
       "<tf.Tensor: shape=(17572,), dtype=int64, numpy=array([ 0,  0,  0, ..., 37, 37, 37], dtype=int64)>"
      ]
     },
     "execution_count": 54,
     "metadata": {},
     "output_type": "execute_result"
    }
   ],
   "source": [
    "predicted_categories = tf.argmax(y_pred, axis=1)\n",
    "predicted_categories "
   ]
  },
  {
   "cell_type": "code",
   "execution_count": 35,
   "id": "c0c026e6-ca10-418a-9e2b-a6880f59fc9c",
   "metadata": {},
   "outputs": [
    {
     "data": {
      "text/plain": [
       "<tf.Tensor: shape=(17572, 38), dtype=float32, numpy=\n",
       "array([[1., 0., 0., ..., 0., 0., 0.],\n",
       "       [1., 0., 0., ..., 0., 0., 0.],\n",
       "       [1., 0., 0., ..., 0., 0., 0.],\n",
       "       ...,\n",
       "       [0., 0., 0., ..., 0., 0., 1.],\n",
       "       [0., 0., 0., ..., 0., 0., 1.],\n",
       "       [0., 0., 0., ..., 0., 0., 1.]], dtype=float32)>"
      ]
     },
     "execution_count": 35,
     "metadata": {},
     "output_type": "execute_result"
    }
   ],
   "source": [
    "true_categories= tf.concat([y for x,y in test_set], axis=0)\n",
    "true_categories"
   ]
  },
  {
   "cell_type": "markdown",
   "id": "4b41322d-e7cb-45b4-9f9a-27bd6c5b3b7d",
   "metadata": {},
   "source": [
    "### Linear Regression"
   ]
  },
  {
   "cell_type": "code",
   "execution_count": 36,
   "id": "c1539485-31b1-439a-89e3-010faa1248e5",
   "metadata": {},
   "outputs": [
    {
     "name": "stdout",
     "output_type": "stream",
     "text": [
      "Mean Squared Error (MSE): 2.265143772553646\n",
      "Root Mean Squared Error (RMSE): 1.5050394588028735\n",
      "R² Score: 0.9458469264266861\n"
     ]
    },
    {
     "data": {
      "image/png": "[encoded data removed]",
      "text/plain": [
       "<Figure size 640x480 with 1 Axes>"
      ]
     },
     "metadata": {},
     "output_type": "display_data"
    }
   ],
   "source": [
    "# Import necessary libraries\n",
    "import numpy as np\n",
    "import matplotlib.pyplot as plt\n",
    "from sklearn.linear_model import LinearRegression\n",
    "from sklearn.model_selection import train_test_split\n",
    "from sklearn.metrics import mean_squared_error, r2_score\n",
    "\n",
    "# Step 1: Example Feature and Label Selection\n",
    "# Assume `X` is some feature (like plant health score) and `y` is the disease severity.\n",
    "# For demonstration, I'll randomly create some example data here. Replace this with real data from your dataset.\n",
    "\n",
    "# Example: Randomly generated feature (replace this with actual data from your dataset)\n",
    "X = np.random.rand(100, 1) * 10  # Random feature, 100 samples\n",
    "y = 2.5 * X + np.random.randn(100, 1) * 2  # True relationship + noise\n",
    "\n",
    "# Step 2: Train-Test Split\n",
    "X_train, X_test, y_train, y_test = train_test_split(X, y, test_size=0.2, random_state=42)\n",
    "\n",
    "# Step 3: Fit Linear Regression Model\n",
    "lin_reg = LinearRegression()\n",
    "lin_reg.fit(X_train, y_train)\n",
    "\n",
    "# Step 4: Predict on Test Data\n",
    "y_pred = lin_reg.predict(X_test)\n",
    "\n",
    "# Step 5: Calculate Loss (Mean Squared Error and Root Mean Squared Error)\n",
    "mse = mean_squared_error(y_test, y_pred)\n",
    "rmse = np.sqrt(mse)\n",
    "\n",
    "# Step 6: Calculate Accuracy (R² Score)\n",
    "r2 = r2_score(y_test, y_pred)\n",
    "\n",
    "# Step 7: Print the results\n",
    "print(f\"Mean Squared Error (MSE): {mse}\")\n",
    "print(f\"Root Mean Squared Error (RMSE): {rmse}\")\n",
    "print(f\"R² Score: {r2}\")\n",
    "\n",
    "# Step 8: Visualize the Linear Regression with Actual vs Predicted\n",
    "plt.scatter(X_test, y_test, color=\"blue\", label=\"Actual Data\")\n",
    "plt.plot(X_test, y_pred, color=\"red\", label=\"Predicted Line\")\n",
    "plt.title(\"Linear Regression - Actual vs Predicted\")\n",
    "plt.xlabel(\"Feature (e.g., Plant Health)\")\n",
    "plt.ylabel(\"Disease Severity\")\n",
    "plt.legend()\n",
    "plt.show()\n"
   ]
  },
  {
   "cell_type": "code",
   "execution_count": null,
   "id": "54811e1d-549e-4552-88bd-295f2ad4dd1b",
   "metadata": {},
   "outputs": [],
   "source": []
  },
  {
   "cell_type": "code",
   "execution_count": null,
   "id": "4b2118ee-10fb-41d3-aee9-86a581763de4",
   "metadata": {},
   "outputs": [],
   "source": []
  },
  {
   "cell_type": "code",
   "execution_count": null,
   "id": "404011a2-13b3-4e0a-9342-f1a95805eac0",
   "metadata": {},
   "outputs": [],
   "source": [
    "import os\n",
    "from PIL import Image\n",
    "import numpy as np\n",
    "from sklearn import svm\n",
    "from sklearn.model_selection import train_test_split\n",
    "from sklearn.preprocessing import StandardScaler\n",
    "from sklearn.metrics import accuracy_score\n",
    "\n",
    "# Path to the folder containing your images\n",
    "train_folder = r'C:\\Users\\ASUS\\Desktop\\New Plant Diseases Dataset(Augmented)\\New Plant Diseases Dataset(Augmented)\\train'\n",
    "\n",
    "# Define image size (e.g., 64x64)\n",
    "img_size = (64, 64)\n",
    "\n",
    "# Lists to hold image data and labels\n",
    "X = []\n",
    "y = []\n",
    "\n",
    "# Assuming subfolders in \"train\" represent class labels\n",
    "for class_folder in os.listdir(train_folder):\n",
    "    class_path = os.path.join(train_folder, class_folder)\n",
    "    \n",
    "    if os.path.isdir(class_path):  # Ensure it's a folder\n",
    "        for img_file in os.listdir(class_path):\n",
    "            img_path = os.path.join(class_path, img_file)\n",
    "            \n",
    "            # Open image and resize it\n",
    "            img = Image.open(img_path).resize(img_size)\n",
    "            \n",
    "            # Convert the image to a numpy array and flatten it\n",
    "            img_array = np.array(img).flatten()\n",
    "            \n",
    "            # Append the image data and corresponding label (folder name as label)\n",
    "            X.append(img_array)\n",
    "            y.append(class_folder)\n",
    "\n",
    "# Convert lists to numpy arrays\n",
    "X = np.array(X)\n",
    "y = np.array(y)\n",
    "\n",
    "# Standardize the data\n",
    "scaler = StandardScaler()\n",
    "X_scaled = scaler.fit_transform(X)\n",
    "\n",
    "# Split the data into training and test sets\n",
    "X_train, X_test, y_train, y_test = train_test_split(X_scaled, y, test_size=0.2, random_state=42)\n",
    "\n",
    "# Train an SVM classifier\n",
    "clf = svm.SVC(kernel='linear')  # You can also experiment with other kernels like 'rbf'\n",
    "clf.fit(X_train, y_train)\n",
    "\n",
    "# Make predictions on the test set\n",
    "y_pred = clf.predict(X_test)\n",
    "\n",
    "# Calculate the accuracy\n",
    "accuracy = accuracy_score(y_test, y_pred)\n",
    "print(f\"SVM Accuracy: {accuracy}\")\n"
   ]
  },
  {
   "cell_type": "code",
   "execution_count": null,
   "id": "3a0c6f06-aeb4-4f1d-b791-1dbb5f6be95e",
   "metadata": {},
   "outputs": [],
   "source": []
  },
  {
   "cell_type": "code",
   "execution_count": null,
   "id": "c51724ba-bc84-4657-b06e-c82eb50f01d0",
   "metadata": {},
   "outputs": [],
   "source": [
    "\n"
   ]
  },
  {
   "cell_type": "code",
   "execution_count": null,
   "id": "765d7dba-e3cf-49d4-a439-58c0aaa268e1",
   "metadata": {},
   "outputs": [],
   "source": []
  }
 ],
 "metadata": {
  "kernelspec": {
   "display_name": "Python 3.10 (tensorflow)",
   "language": "python",
   "name": "tensorflow"
  },
  "language_info": {
   "codemirror_mode": {
    "name": "ipython",
    "version": 3
   },
   "file_extension": ".py",
   "mimetype": "text/x-python",
   "name": "python",
   "nbconvert_exporter": "python",
   "pygments_lexer": "ipython3",
   "version": "3.10.14"
  }
 },
 "nbformat": 4,
 "nbformat_minor": 5
}
